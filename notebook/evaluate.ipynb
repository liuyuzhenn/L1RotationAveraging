{
 "cells": [
  {
   "cell_type": "code",
   "execution_count": 1,
   "metadata": {},
   "outputs": [],
   "source": [
    "import sys\n",
    "import os\n",
    "import torch\n",
    "import matplotlib.pyplot as plt\n",
    "sys.path.append('..')\n",
    "from src.utils import evaluate,load_Alamo,load_Ellis\n",
    "from src.rotations import *\n",
    "from src.averaging import *"
   ]
  },
  {
   "cell_type": "markdown",
   "metadata": {},
   "source": [
    "# Load data"
   ]
  },
  {
   "cell_type": "code",
   "execution_count": 2,
   "metadata": {},
   "outputs": [
    {
     "name": "stdout",
     "output_type": "stream",
     "text": [
      "# Images: 627\n",
      "# Relative rotations: 97206\n"
     ]
    }
   ],
   "source": [
    "rel_rots,rel_rot_inds,rots_gt,valid_inds = load_Alamo('../data/Alamo.mat')\n",
    "print('# Images: {}'.format(rots_gt.shape[0]))\n",
    "print('# Relative rotations: {}'.format(len(rel_rots)))\n",
    "device = 'cpu' # CPU is faster in current implementation\n",
    "rel_rots = torch.from_numpy(rel_rots).to(device)\n",
    "rel_rot_inds = torch.from_numpy(rel_rot_inds).to(device)\n",
    "valid_inds = torch.from_numpy(valid_inds).to(device)\n",
    "rots_gt = matrix_to_quaternion(torch.from_numpy(rots_gt).to(device))"
   ]
  },
  {
   "cell_type": "markdown",
   "metadata": {},
   "source": [
    "# L1 rotation averagin"
   ]
  },
  {
   "cell_type": "code",
   "execution_count": 4,
   "metadata": {},
   "outputs": [
    {
     "name": "stderr",
     "output_type": "stream",
     "text": [
      "100%|█████████████████████████████████████████████| 1/1 [00:02<00:00,  2.69s/it]"
     ]
    },
    {
     "name": "stdout",
     "output_type": "stream",
     "text": [
      "[sweeps:1/steps:3] Angle Error: 1.4006\n"
     ]
    },
    {
     "name": "stderr",
     "output_type": "stream",
     "text": [
      "\n"
     ]
    }
   ],
   "source": [
    "steps = 3 # Weizfeld steps\n",
    "sweeps = 1 # max iterations\n",
    "\n",
    "solver = MultipleRotationSolver(steps=steps,sweeps=sweeps,progress_bar=True)\n",
    "rot_pred = solver.solve(rel_rots,rel_rot_inds)\n",
    "angles = evaluate(rot_pred,rots_gt,valid_inds)\n",
    "angles = torch.sort(angles)[0]\n",
    "median = float(angles[len(angles)//2])\n",
    "print('[sweeps:{}/steps:{}] Angle Error: {:.4f}'.format(sweeps,steps,median))"
   ]
  },
  {
   "cell_type": "markdown",
   "metadata": {},
   "source": [
    "# Plot error distribution"
   ]
  },
  {
   "cell_type": "code",
   "execution_count": 6,
   "metadata": {},
   "outputs": [
    {
     "data": {
      "text/plain": [
       "Text(0, 0.5, '# Images')"
      ]
     },
     "execution_count": 6,
     "metadata": {},
     "output_type": "execute_result"
    },
    {
     "data": {
      "image/png": "[encoded data removed]",
      "text/plain": [
       "<Figure size 576x432 with 1 Axes>"
      ]
     },
     "metadata": {
      "needs_background": "light"
     },
     "output_type": "display_data"
    }
   ],
   "source": [
    "angles = angles.numpy()\n",
    "plt.rcParams['figure.figsize'] = [8,6]\n",
    "plt.hist(angles,bins=50)\n",
    "plt.xlabel('Error (deg)')\n",
    "plt.ylabel('# Images')"
   ]
  }
 ],
 "metadata": {
  "interpreter": {
   "hash": "ae8d60a793eea8c0f136920efd366459e9aa74d125b6925ecaa33cb18aa79429"
  },
  "kernelspec": {
   "display_name": "Python 3.9.7 ('torch')",
   "language": "python",
   "name": "python3"
  },
  "language_info": {
   "codemirror_mode": {
    "name": "ipython",
    "version": 3
   },
   "file_extension": ".py",
   "mimetype": "text/x-python",
   "name": "python",
   "nbconvert_exporter": "python",
   "pygments_lexer": "ipython3",
   "version": "3.9.7"
  },
  "orig_nbformat": 4
 },
 "nbformat": 4,
 "nbformat_minor": 2
}
