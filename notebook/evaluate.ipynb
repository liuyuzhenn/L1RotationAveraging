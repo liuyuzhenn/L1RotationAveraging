{
 "cells": [
  {
   "cell_type": "code",
   "execution_count": 1,
   "metadata": {},
   "outputs": [],
   "source": [
    "import sys\n",
    "import os\n",
    "import matplotlib.pyplot as plt\n",
    "sys.path.append('..')\n",
    "from src.algorithm import *"
   ]
  },
  {
   "cell_type": "markdown",
   "metadata": {},
   "source": [
    "# Load data"
   ]
  },
  {
   "cell_type": "code",
   "execution_count": 2,
   "metadata": {},
   "outputs": [],
   "source": [
    "rel_rots,rel_rot_inds,rots_gt,valid_inds = load_Ellis('../data/Ellis.mat')"
   ]
  },
  {
   "cell_type": "markdown",
   "metadata": {},
   "source": [
    "# L1 rotation averagin"
   ]
  },
  {
   "cell_type": "code",
   "execution_count": 15,
   "metadata": {},
   "outputs": [
    {
     "name": "stderr",
     "output_type": "stream",
     "text": [
      " 80%|████████████████████████████████████         | 4/5 [00:28<00:07,  7.15s/it]"
     ]
    }
   ],
   "source": [
    "steps = 10 # Weizfeld steps\n",
    "iterations = 5 # max iterations\n",
    "t1 = time.time()\n",
    "rots_pred = multiple_rotation_averaging(rel_rots,rel_rot_inds,rots_gt.shape[0],\n",
    "                                        steps=steps,max_iterations=iterations)\n",
    "t2 = time.time()\n",
    "print('Time cost is {:.3f} s'.format(t2-t1))\n",
    "\n",
    "rots_pred_ = [rots_pred[ind] for ind in valid_inds]\n",
    "rots_gt_ = [rots_gt[ind] for ind in valid_inds]\n",
    "\n",
    "rots_aligned = align_rotation(rots_pred_,rots_gt_)\n",
    "errors = get_errors(rots_gt_,rots_aligned)\n",
    "errors.sort()\n",
    "n = len(errors)\n",
    "if n%2==0:\n",
    "    error = (errors[n//2]+errors[n//2-1])/2\n",
    "else:\n",
    "    error = errors[n//2]\n",
    "print('Median error is {:.3f} degree'.format(error))"
   ]
  },
  {
   "cell_type": "markdown",
   "metadata": {},
   "source": [
    "# Plot error distribution"
   ]
  },
  {
   "cell_type": "code",
   "execution_count": 14,
   "metadata": {},
   "outputs": [
    {
     "data": {
      "text/plain": [
       "Text(0, 0.5, '# Images')"
      ]
     },
     "execution_count": 14,
     "metadata": {},
     "output_type": "execute_result"
    },
    {
     "data": {
      "image/png": "[encoded data removed]",
      "text/plain": [
       "<Figure size 576x432 with 1 Axes>"
      ]
     },
     "metadata": {
      "needs_background": "light"
     },
     "output_type": "display_data"
    }
   ],
   "source": [
    "plt.rcParams['figure.figsize'] = [8,6]\n",
    "plt.hist(errors,bins=50)\n",
    "plt.xlabel('Error (deg)')\n",
    "plt.ylabel('# Images')"
   ]
  }
 ],
 "metadata": {
  "interpreter": {
   "hash": "ae8d60a793eea8c0f136920efd366459e9aa74d125b6925ecaa33cb18aa79429"
  },
  "kernelspec": {
   "display_name": "Python 3.9.7 ('torch')",
   "language": "python",
   "name": "python3"
  },
  "language_info": {
   "codemirror_mode": {
    "name": "ipython",
    "version": 3
   },
   "file_extension": ".py",
   "mimetype": "text/x-python",
   "name": "python",
   "nbconvert_exporter": "python",
   "pygments_lexer": "ipython3",
   "version": "3.9.7"
  },
  "orig_nbformat": 4
 },
 "nbformat": 4,
 "nbformat_minor": 2
}
